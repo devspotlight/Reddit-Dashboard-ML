{
 "cells": [
  {
   "cell_type": "code",
   "execution_count": null,
   "metadata": {},
   "outputs": [],
   "source": [
    "import pandas as pd\n",
    "import matplotlib.pyplot as plt\n",
    "import seaborn as sns\n",
    "from sklearn.model_selection import train_test_split\n",
    "from sklearn.tree import DecisionTreeClassifier\n",
    "from sklearn import metrics\n",
    "from IPython import get_ipython\n",
    "import collections\n",
    "from datetime import datetime\n",
    "import numpy as np\n",
    "from model import RFModel\n",
    "\n",
    "with open('lib/data/my_clean_data_training.csv') as f:\n",
    "    my_data_training = pd.read_csv(f, sep=',')\n",
    "print(\"Clean Dataset Shape for Training: \", my_data_training.shape)\n",
    "\n",
    "with open('lib/data/my_clean_data_normies.csv') as f:\n",
    "    my_data_normies = pd.read_csv(f, sep=',')\n",
    "print(\"Clean Dataset Shape for Normies: \", my_data_normies.shape)\n",
    "my_data_normies['target'] = 'normal'\n",
    "\n",
    "my_data = my_data_training.append(my_data_normies)\n",
    "print(\"Clean Dataset Shape Combined: \", my_data.shape)"
   ]
  },
  {
   "cell_type": "code",
   "execution_count": null,
   "metadata": {},
   "outputs": [],
   "source": [
    "# drop duplicates\n",
    "my_data = my_data.drop_duplicates(subset=['author','link_id','created_utc'])\n",
    "\n",
    "# correct labeling\n",
    "my_data.loc[my_data.author == 'PoliticsModeratorBot','target'] = 'bot'\n",
    "\n",
    "# Label known bots in normies\n",
    "bot_authors = my_data[my_data.target == 'bot'].author.unique()\n",
    "my_data.loc[((my_data.target == 'normal') & (my_data.author.isin(bot_authors))),'target'] = 'bot'"
   ]
  },
  {
   "cell_type": "code",
   "execution_count": null,
   "metadata": {},
   "outputs": [],
   "source": [
    "# Delete irrelevant columns\n",
    "columns = ['link_id', 'author', 'created_utc', 'body']\n",
    "my_data.drop(columns, inplace=True, axis=1)\n",
    "print(\"After removing columns not considered: \", my_data.shape)"
   ]
  },
  {
   "cell_type": "code",
   "execution_count": null,
   "metadata": {
    "scrolled": true
   },
   "outputs": [],
   "source": [
    "my_data[my_data['target']=='normal'].describe()"
   ]
  },
  {
   "cell_type": "code",
   "execution_count": null,
   "metadata": {},
   "outputs": [],
   "source": [
    "my_data[my_data['target']=='bot'].describe()"
   ]
  },
  {
   "cell_type": "code",
   "execution_count": null,
   "metadata": {},
   "outputs": [],
   "source": [
    "my_data[my_data['target']=='troll'].describe()"
   ]
  },
  {
   "cell_type": "code",
   "execution_count": null,
   "metadata": {},
   "outputs": [],
   "source": [
    "# Set fractions between the user classes\n",
    "#print(\"\\nFixing ratios between classes\")\n",
    "#dataset = my_data[my_data.target==2]\n",
    "#dataset = dataset.append(my_data[my_data.target==1].sample(n=len(dataset)*2))\n",
    "#dataset = dataset.append(my_data[my_data.target==0])\n",
    "#my_data = dataset"
   ]
  },
  {
   "cell_type": "code",
   "execution_count": null,
   "metadata": {},
   "outputs": [],
   "source": [
    "# Number of targets\n",
    "targets = collections.Counter(my_data['target'])\n",
    "print(targets)\n",
    "\n",
    "# Extract feature and target np arrays (inputs for placeholders)\n",
    "input_y = my_data['target'].values\n",
    "input_x = my_data.drop(['target'], axis=1)\n",
    "\n",
    "# Splitting the dataset into the Training set and Test set\n",
    "X_train, X_test, y_train, y_test = train_test_split(\n",
    "            input_x, input_y,\n",
    "            test_size=0.3, random_state=16)"
   ]
  },
  {
   "cell_type": "code",
   "execution_count": null,
   "metadata": {},
   "outputs": [],
   "source": [
    "# Create a Decision Tree Classifier\n",
    "clf = DecisionTreeClassifier(max_depth=3, \n",
    "                             class_weight={'normal':1, 'bot':2.5, 'troll':5}, \n",
    "                             min_samples_leaf=100)\n",
    "\n",
    "# Train the model using the training sets y_pred=clf.predict(X_test)\n",
    "clf.fit(X_train, y_train)\n",
    "\n",
    "# prediction on test set\n",
    "y_pred = clf.predict(X_test)\n",
    "\n",
    "# Model Accuracy, how often is the classifier correct?\n",
    "y_true = y_test\n",
    "\n",
    "matrix = pd.crosstab(y_true, y_pred, rownames=['True'],\n",
    "                     colnames=['Predicted'], margins=True)\n",
    "print(matrix)\n",
    "print(\"Accuracy:\", metrics.accuracy_score(y_test, y_pred))\n",
    "print(\"Mcc:\", metrics.matthews_corrcoef(y_test, y_pred))\n",
    "print(\"F1 :\", metrics.f1_score(y_test, y_pred, average=None))\n",
    "print(\"Recall :\", metrics.recall_score(y_test, y_pred, average=None))\n",
    "print(\"Precision:\", metrics.precision_score(y_test, y_pred, average=None))\n",
    "\n",
    "feature_imp = pd.Series(\n",
    "        clf.feature_importances_,\n",
    "        index=my_data.columns.drop('target')).sort_values(ascending=False)\n",
    "print(feature_imp)"
   ]
  },
  {
   "cell_type": "code",
   "execution_count": null,
   "metadata": {},
   "outputs": [],
   "source": [
    "# prediction on training set\n",
    "y_pred = clf.predict(X_train)\n",
    "\n",
    "# Model Accuracy, how often is the classifier correct?\n",
    "y_true = y_train\n",
    "\n",
    "matrix = pd.crosstab(y_true, y_pred, rownames=['True'],\n",
    "                     colnames=['Predicted'], margins=True)\n",
    "print(matrix)"
   ]
  },
  {
   "cell_type": "code",
   "execution_count": null,
   "metadata": {},
   "outputs": [],
   "source": [
    "estimator = clf\n",
    "\n",
    "from sklearn.tree import export_graphviz\n",
    "# Export as dot file\n",
    "export_graphviz(estimator, out_file='tree.dot', \n",
    "                feature_names = data.drop(['target'], axis=1).columns.values,\n",
    "                class_names = np.array(['bot','normal','troll']),\n",
    "                rounded = False, proportion = False, \n",
    "                precision = 5, filled = True)\n",
    "\n",
    "# Convert to png using system command (requires Graphviz)\n",
    "from subprocess import call\n",
    "call(['dot', '-Tpng', 'tree.dot', '-o', 'tree.png', '-Gdpi=600'])\n",
    "\n",
    "# Display in jupyter notebook\n",
    "from IPython.display import Image\n",
    "Image(filename = 'tree.png')"
   ]
  },
  {
   "cell_type": "code",
   "execution_count": null,
   "metadata": {},
   "outputs": [],
   "source": [
    "# Build the model and pickle it for use by the API \n",
    "model = RFModel()\n",
    "\n",
    "# Create a Gaussian Classifier\n",
    "model.create(3)\n",
    "\n",
    "# Train the model using the training sets y_pred=clf.predict(X_test)\n",
    "model.train(X_train, y_train)\n",
    "y_pred = model.predict(X_test)\n",
    "y_true = y_test\n",
    "matrix = pd.crosstab(y_true, y_pred, rownames=['True'],\n",
    "                     colnames=['Predicted'], margins=True)\n",
    "print(matrix)\n",
    "print(\"Accuracy:\", metrics.accuracy_score(y_test, y_pred))\n",
    "print(\"Mcc:\", metrics.matthews_corrcoef(y_test, y_pred))\n",
    "print(\"F1 :\", metrics.f1_score(y_test, y_pred, average=None))\n",
    "print(\"Recall :\", metrics.recall_score(y_test, y_pred, average=None))\n",
    "print(\"Precision:\", metrics.precision_score(y_test, y_pred, average=None))\n",
    "\n",
    "feature_imp = pd.Series(\n",
    "        model.feature_importances(),\n",
    "        index=my_data.columns.drop('target')).sort_values(ascending=False)\n",
    "feature_imp\n",
    "\n",
    "model.pickle_clf()\n",
    "model.pickle_clean_data()"
   ]
  },
  {
   "cell_type": "code",
   "execution_count": null,
   "metadata": {},
   "outputs": [],
   "source": [
    "# Plot number of targets\n",
    "from IPython import get_ipython\n",
    "import matplotlib.pyplot as plt\n",
    "\n",
    "ipy = get_ipython()\n",
    "if ipy is not None:\n",
    "    ipy.run_line_magic('matplotlib', 'inline')\n",
    "\n",
    "    # Creating a bar plot\n",
    "    sns.set(style=\"darkgrid\")\n",
    "    sns.countplot(x=\"target\", data=my_data)\n",
    "\n",
    "    # Add labels to your graph\n",
    "    plt.xlabel('Target Score')\n",
    "    plt.ylabel('Targets')\n",
    "    plt.title(\"Targets Distribution\")\n",
    "    plt.show()"
   ]
  },
  {
   "cell_type": "code",
   "execution_count": null,
   "metadata": {},
   "outputs": [],
   "source": [
    "# Visualize the feature importance\n",
    "ipy = get_ipython()\n",
    "if ipy is not None:\n",
    "    ipy.run_line_magic('matplotlib', 'inline')\n",
    "    \n",
    "    # Creating a bar plot\n",
    "    sns.barplot(x=feature_imp, y=feature_imp.index)\n",
    "    \n",
    "    # Add labels to your graph\n",
    "    plt.xlabel('Feature Importance Score')\n",
    "    plt.ylabel('Features')\n",
    "    plt.title(\"Visualizing Important Features\")\n",
    "    plt.show()"
   ]
  },
  {
   "cell_type": "code",
   "execution_count": null,
   "metadata": {},
   "outputs": [],
   "source": []
  }
 ],
 "metadata": {
  "kernelspec": {
   "display_name": "botidentification",
   "language": "python",
   "name": "botidentification"
  },
  "language_info": {
   "codemirror_mode": {
    "name": "ipython",
    "version": 3
   },
   "file_extension": ".py",
   "mimetype": "text/x-python",
   "name": "python",
   "nbconvert_exporter": "python",
   "pygments_lexer": "ipython3",
   "version": "3.6.7"
  }
 },
 "nbformat": 4,
 "nbformat_minor": 2
}
